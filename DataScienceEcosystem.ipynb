{
 "cells": [
  {
   "cell_type": "markdown",
   "id": "93ddef4e-5e6a-4907-850e-10a888807cfe",
   "metadata": {},
   "source": [
    "# Data Science Tools and Ecosystem"
   ]
  },
  {
   "cell_type": "markdown",
   "id": "cc44cab7-2612-49d1-a676-c7932b37084f",
   "metadata": {},
   "source": [
    "This is a notebook about data science tools and ecosystem"
   ]
  },
  {
   "cell_type": "markdown",
   "id": "40c250ac-202e-4423-a5ca-2f65948c78b6",
   "metadata": {},
   "source": [
    "**Objectives**\n",
    "* Listing popular languages in data science\n",
    "* Listing popular libraries in data science\n",
    "* Listing popular data science tools\n",
    "* Doing arithmetic in python\n",
    "* Converting hours to minutes in python"
   ]
  },
  {
   "cell_type": "markdown",
   "id": "152ea129-3b7f-4b74-a6b9-9a5b46776646",
   "metadata": {},
   "source": [
    "Popular languages used by data scientists:\n",
    "1. Python\n",
    "2. R\n",
    "3. SQL"
   ]
  },
  {
   "cell_type": "markdown",
   "id": "4e77ae36-1506-458a-9584-c57f126447d3",
   "metadata": {},
   "source": [
    "Popular libraries in data science:\n",
    "1. Pandas\n",
    "2. NumPY\n",
    "3. Seaborn"
   ]
  },
  {
   "cell_type": "markdown",
   "id": "92ab38b9-d5ef-4ab6-8c36-a2027dc0a7fe",
   "metadata": {},
   "source": [
    "| Data science tools |\n",
    "|------|\n",
    "| R studio|\n",
    "| Jupyter studio|\n",
    "| Apache spark|\n"
   ]
  },
  {
   "cell_type": "markdown",
   "id": "0e8b7440-2c11-4459-ad21-c3d5f456ad3e",
   "metadata": {},
   "source": [
    "### Doing arithmetic in python:"
   ]
  },
  {
   "cell_type": "code",
   "execution_count": 1,
   "id": "456ffb27-a497-4f84-aab6-a9b39333badd",
   "metadata": {},
   "outputs": [
    {
     "data": {
      "text/plain": [
       "17"
      ]
     },
     "execution_count": 1,
     "metadata": {},
     "output_type": "execute_result"
    }
   ],
   "source": [
    "# multiplication and adding integers\n",
    "3*4+5"
   ]
  },
  {
   "cell_type": "code",
   "execution_count": 3,
   "id": "9185b034-2caf-467e-b71a-1a3d132e6fdf",
   "metadata": {},
   "outputs": [
    {
     "data": {
      "text/plain": [
       "3.3333333333333335"
      ]
     },
     "execution_count": 3,
     "metadata": {},
     "output_type": "execute_result"
    }
   ],
   "source": [
    "# Converting 200 minutes to hours\n",
    "hours_1 = 200/60\n",
    "hours_1"
   ]
  },
  {
   "cell_type": "markdown",
   "id": "2f38b70d-624c-4212-9f8e-0a849f6ae716",
   "metadata": {},
   "source": [
    "## Author\n",
    "Piotr Borowski"
   ]
  },
  {
   "cell_type": "code",
   "execution_count": null,
   "id": "5c13e63a-e848-4d8b-829c-c944a55a5177",
   "metadata": {},
   "outputs": [],
   "source": []
  }
 ],
 "metadata": {
  "kernelspec": {
   "display_name": "Python",
   "language": "python",
   "name": "conda-env-python-py"
  },
  "language_info": {
   "codemirror_mode": {
    "name": "ipython",
    "version": 3
   },
   "file_extension": ".py",
   "mimetype": "text/x-python",
   "name": "python",
   "nbconvert_exporter": "python",
   "pygments_lexer": "ipython3",
   "version": "3.7.12"
  }
 },
 "nbformat": 4,
 "nbformat_minor": 5
}
